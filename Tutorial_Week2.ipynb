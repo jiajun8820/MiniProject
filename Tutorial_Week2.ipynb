{
 "cells": [
  {
   "cell_type": "markdown",
   "id": "35b56fbd",
   "metadata": {},
   "source": [
    "## Khor Jia Jun 2101593\n",
    "## Tutorial Week 2 "
   ]
  },
  {
   "cell_type": "markdown",
   "id": "d5a5a9f9",
   "metadata": {},
   "source": [
    "### 1.Try to write a simple custom function to determine whether a given integer is odd or even number."
   ]
  },
  {
   "cell_type": "code",
   "execution_count": 2,
   "id": "0ac8d143",
   "metadata": {},
   "outputs": [],
   "source": [
    "def OddEven(x):\n",
    "    \"\"\"\n",
    "    This function is to determine the add even nature of number\"\"\"\n",
    "    if isinstance(x,int):\n",
    "        if x%2==0:\n",
    "            if x==0:\n",
    "                statement = \" is neither odd or even number.\"\n",
    "            else:\n",
    "                statement = \"is even number.\"\n",
    "                \n",
    "    else:\n",
    "        statement = \" is not an integer!\"\n",
    "        \n",
    "    return print(f\"{x}\" +statement)"
   ]
  },
  {
   "cell_type": "code",
   "execution_count": 4,
   "id": "ec2b95c9",
   "metadata": {},
   "outputs": [
    {
     "name": "stdout",
     "output_type": "stream",
     "text": [
      "0 is neither odd or even number.\n"
     ]
    }
   ],
   "source": [
    "OddEven(0)"
   ]
  },
  {
   "cell_type": "code",
   "execution_count": 6,
   "id": "34205ece",
   "metadata": {},
   "outputs": [
    {
     "name": "stdout",
     "output_type": "stream",
     "text": [
      "12is even number.\n"
     ]
    }
   ],
   "source": [
    "OddEven(12)"
   ]
  },
  {
   "cell_type": "markdown",
   "id": "08b97225",
   "metadata": {},
   "source": [
    "### 2.Write a simple example code to show that Numpy is more efficient in numerical computation of large arrays of data than equivalent Python list.\n"
   ]
  },
  {
   "cell_type": "code",
   "execution_count": 10,
   "id": "4ffbb7e4",
   "metadata": {},
   "outputs": [],
   "source": [
    "import numpy as np\n",
    "large_n = 1e5 #100,000"
   ]
  },
  {
   "cell_type": "code",
   "execution_count": 11,
   "id": "8c9ddf20",
   "metadata": {},
   "outputs": [],
   "source": [
    "#create a list of Numpy array\n",
    "numpy_arr = np.arange(large_n)\n",
    "list_arr = list(range(int(large_n)))"
   ]
  },
  {
   "cell_type": "code",
   "execution_count": 13,
   "id": "a3109993",
   "metadata": {},
   "outputs": [
    {
     "name": "stdout",
     "output_type": "stream",
     "text": [
      "99999.0\n",
      "99999\n"
     ]
    }
   ],
   "source": [
    "print(numpy_arr[-1])\n",
    "print(list_arr[-1])"
   ]
  },
  {
   "cell_type": "code",
   "execution_count": 14,
   "id": "ac1a1bf0",
   "metadata": {},
   "outputs": [
    {
     "name": "stdout",
     "output_type": "stream",
     "text": [
      "45.5 µs ± 3.74 µs per loop (mean ± std. dev. of 7 runs, 10,000 loops each)\n",
      "6.12 ms ± 233 µs per loop (mean ± std. dev. of 7 runs, 100 loops each)\n"
     ]
    }
   ],
   "source": [
    "%timeit res = numpy_arr * 2 \n",
    "%timeit res = [2*i for i in list_arr]"
   ]
  },
  {
   "cell_type": "code",
   "execution_count": 18,
   "id": "fba83d83",
   "metadata": {},
   "outputs": [
    {
     "name": "stdout",
     "output_type": "stream",
     "text": [
      "[0 1 2 3 4 5 6 7 8 9]\n",
      "[ 0  1  2  3 25 25 25  7  8  9]\n",
      "[-1 25 25]\n",
      "[ 0  1  2  3 -1 25 25  7  8  9]\n"
     ]
    }
   ],
   "source": [
    "my_arr = np.arange(10)\n",
    "print(my_arr)\n",
    "my_arr[4:7] = 25\n",
    "print(my_arr)\n",
    "arr_slice = my_arr[4:7]\n",
    "\n",
    "# Change the first element of arr_slice to -1\n",
    "arr_slice[0]= -1\n",
    "\n",
    "print(arr_slice)\n",
    "print(my_arr)"
   ]
  },
  {
   "cell_type": "markdown",
   "id": "ee8c15b8",
   "metadata": {},
   "source": [
    "### arr_slice is assigned pointer value that point to the my_arr instead of assign value\n"
   ]
  },
  {
   "cell_type": "code",
   "execution_count": 20,
   "id": "f34459f1",
   "metadata": {},
   "outputs": [
    {
     "name": "stdout",
     "output_type": "stream",
     "text": [
      "[0 1 2 3 4 5 6 7 8 9]\n",
      "[ 0  1  2  3 25 25 25  7  8  9]\n",
      "[-1 25 25]\n",
      "[ 0  1  2  3 25 25 25  7  8  9]\n"
     ]
    }
   ],
   "source": [
    "my_arr = np.arange(10)\n",
    "print(my_arr)\n",
    "\n",
    "my_arr[4:7] = 25\n",
    "print(my_arr)\n",
    "\n",
    "arr_slice = my_arr[4:7].copy()\n",
    "\n",
    "# Change the first element of arr_slice to -1\n",
    "arr_slice[0] = -1\n",
    "\n",
    "print(arr_slice)\n",
    "print(my_arr)"
   ]
  },
  {
   "cell_type": "code",
   "execution_count": 22,
   "id": "25a5155d",
   "metadata": {},
   "outputs": [
    {
     "name": "stdout",
     "output_type": "stream",
     "text": [
      "Requirement already satisfied: matplotlib in c:\\users\\khor jia jun\\anaconda3\\lib\\site-packages (3.7.0)\n",
      "Requirement already satisfied: packaging>=20.0 in c:\\users\\khor jia jun\\anaconda3\\lib\\site-packages (from matplotlib) (22.0)\n",
      "Requirement already satisfied: pillow>=6.2.0 in c:\\users\\khor jia jun\\anaconda3\\lib\\site-packages (from matplotlib) (9.4.0)\n",
      "Requirement already satisfied: numpy>=1.20 in c:\\users\\khor jia jun\\anaconda3\\lib\\site-packages (from matplotlib) (1.23.5)\n",
      "Requirement already satisfied: fonttools>=4.22.0 in c:\\users\\khor jia jun\\anaconda3\\lib\\site-packages (from matplotlib) (4.25.0)\n",
      "Requirement already satisfied: contourpy>=1.0.1 in c:\\users\\khor jia jun\\anaconda3\\lib\\site-packages (from matplotlib) (1.0.5)\n",
      "Requirement already satisfied: cycler>=0.10 in c:\\users\\khor jia jun\\anaconda3\\lib\\site-packages (from matplotlib) (0.11.0)\n",
      "Requirement already satisfied: pyparsing>=2.3.1 in c:\\users\\khor jia jun\\anaconda3\\lib\\site-packages (from matplotlib) (3.0.9)\n",
      "Requirement already satisfied: kiwisolver>=1.0.1 in c:\\users\\khor jia jun\\anaconda3\\lib\\site-packages (from matplotlib) (1.4.4)\n",
      "Requirement already satisfied: python-dateutil>=2.7 in c:\\users\\khor jia jun\\anaconda3\\lib\\site-packages (from matplotlib) (2.8.2)\n",
      "Requirement already satisfied: six>=1.5 in c:\\users\\khor jia jun\\anaconda3\\lib\\site-packages (from python-dateutil>=2.7->matplotlib) (1.16.0)\n"
     ]
    }
   ],
   "source": [
    "!pip install matplotlib"
   ]
  },
  {
   "cell_type": "code",
   "execution_count": 110,
   "id": "5da96799",
   "metadata": {},
   "outputs": [],
   "source": [
    "import matplotlib.pyplot as plt"
   ]
  },
  {
   "cell_type": "code",
   "execution_count": 111,
   "id": "0b8c2028",
   "metadata": {},
   "outputs": [
    {
     "name": "stdout",
     "output_type": "stream",
     "text": [
      "Requirement already satisfied: opencv-python in c:\\users\\khor jia jun\\anaconda3\\lib\\site-packages (4.8.0.74)\n",
      "Requirement already satisfied: numpy>=1.19.3 in c:\\users\\khor jia jun\\anaconda3\\lib\\site-packages (from opencv-python) (1.23.5)\n",
      "Note: you may need to restart the kernel to use updated packages.\n"
     ]
    }
   ],
   "source": [
    "pip install opencv-python"
   ]
  },
  {
   "cell_type": "code",
   "execution_count": 117,
   "id": "99161190",
   "metadata": {},
   "outputs": [
    {
     "data": {
      "image/png": "[encoded data removed]",
      "text/plain": [
       "<Figure size 640x480 with 1 Axes>"
      ]
     },
     "metadata": {},
     "output_type": "display_data"
    }
   ],
   "source": [
    "import cv2\n",
    "\n",
    "# Create a black 2D image (grayscale image)\n",
    "black_img = np.zeros((200, 200), dtype=np.uint8)\n",
    "\n",
    "# Set center coordinates and radius for the circle\n",
    "center_x = black_img.shape[1] // 2 #width\n",
    "center_y = black_img.shape[0] // 2 #height\n",
    "radius = 20\n",
    "\n",
    "# Draw a white circle at the center of the image\n",
    "cv2.circle(black_img, (center_x, center_y), radius, (255), -1)\n",
    "\n",
    "# Display the image\n",
    "plt.imshow(black_img, cmap=plt.cm.gray)\n",
    "plt.title(\"Black 2D image with White Circle center\")\n",
    "plt.xticks([]), plt.yticks([])\n",
    "plt.show()"
   ]
  },
  {
   "cell_type": "code",
   "execution_count": null,
   "id": "fcba28d9",
   "metadata": {},
   "outputs": [],
   "source": []
  }
 ],
 "metadata": {
  "kernelspec": {
   "display_name": "Python 3 (ipykernel)",
   "language": "python",
   "name": "python3"
  },
  "language_info": {
   "codemirror_mode": {
    "name": "ipython",
    "version": 3
   },
   "file_extension": ".py",
   "mimetype": "text/x-python",
   "name": "python",
   "nbconvert_exporter": "python",
   "pygments_lexer": "ipython3",
   "version": "3.10.9"
  }
 },
 "nbformat": 4,
 "nbformat_minor": 5
}
