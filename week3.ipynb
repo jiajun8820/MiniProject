{
 "cells": [
  {
   "cell_type": "markdown",
   "id": "3b6af2c6",
   "metadata": {},
   "source": [
    "# Learning outcomes\n",
    "1. Load,display and save images\n",
    "2. Load,show, and save videos\n",
    "3. Resize images"
   ]
  },
  {
   "cell_type": "markdown",
   "id": "1500b388",
   "metadata": {},
   "source": [
    "## Why OpenCV?\n",
    "- Compatible in multiple MAJOR OS, like Windows, Linux and MacOS, can be written in different languages: C++, Python and Java.\n",
    "- Interoperable with Numpy modules, thereby faster computation of image array\n",
    "- Large community support, a lot of resources (articles and stackoverflow posts)."
   ]
  },
  {
   "cell_type": "markdown",
   "id": "f1e4b319",
   "metadata": {},
   "source": [
    "## Image formats\n",
    "- JPEG (.jpg, .jpeg, .jfif)\n",
    "    - photos taken from camera\n",
    "- PNG (.png)\n",
    "    - website, larger file size compare to JPEG.\n",
    "- tiff (.tif)\n",
    "    - high-quality printing, large file size.\n",
    "- bmp (.bmp)\n",
    "    - multiple uses, large file size.\n",
    "- GIF (.gif)\n",
    "    - animations, shallow color depth.\n",
    "- webp (.webp)\n",
    "    - smaller file size compared to JPEG and PNG, IE 11 not supported."
   ]
  },
  {
   "cell_type": "markdown",
   "id": "b12f3250",
   "metadata": {},
   "source": [
    "## Setup"
   ]
  },
  {
   "cell_type": "code",
   "execution_count": 1,
   "id": "afccf0b9",
   "metadata": {},
   "outputs": [
    {
     "name": "stdout",
     "output_type": "stream",
     "text": [
      "Requirement already satisfied: opencv-contrib-python in c:\\users\\khor jia jun\\anaconda3\\lib\\site-packages (4.8.0.74)\n",
      "Requirement already satisfied: numpy>=1.17.3 in c:\\users\\khor jia jun\\anaconda3\\lib\\site-packages (from opencv-contrib-python) (1.23.5)\n",
      "Note: you may need to restart the kernel to use updated packages.\n"
     ]
    }
   ],
   "source": [
    "pip install opencv-contrib-python"
   ]
  },
  {
   "cell_type": "code",
   "execution_count": 2,
   "id": "572deb3c",
   "metadata": {},
   "outputs": [],
   "source": [
    "import sys\n",
    "# at least Python 3.7\n",
    "assert sys.version_info >=(3, 7)\n",
    "\n",
    "import numpy as np\n",
    "import cv2 as cv"
   ]
  },
  {
   "cell_type": "markdown",
   "id": "961ddf66",
   "metadata": {},
   "source": [
    "## load and show images"
   ]
  },
  {
   "cell_type": "code",
   "execution_count": 3,
   "id": "778c4d03",
   "metadata": {},
   "outputs": [],
   "source": [
    "img = cv.imread(\"images/lena.jfif\")\n",
    "#second argument: 1 (default), 0 (grayscale), -1 (cv.IMREAD_UNCHANGED)\n",
    "grayscale = cv.imread(\"images/lena.jfif\",0)\n",
    "\n",
    "cv.imshow(\"lena_color\",img)\n",
    "cv.imshow(\"lena_grayscale\",grayscale)\n",
    "cv.waitKey(0) #key binding function: wait for user response\n",
    "cv.destroyAllWindows()"
   ]
  },
  {
   "cell_type": "code",
   "execution_count": 4,
   "id": "b505ddb6",
   "metadata": {},
   "outputs": [],
   "source": [
    "def show_img(window_name,img):\n",
    "    \"\"\"2 arguments: window name and image\"\"\"\n",
    "    cv.imshow(window_name, img)\n",
    "    cv.waitKey(0) #key binding function: wait for user response\n",
    "    cv.destroyAllWindows()"
   ]
  },
  {
   "cell_type": "code",
   "execution_count": null,
   "id": "bc20b138",
   "metadata": {},
   "outputs": [],
   "source": [
    "# png\n",
    "img = cv.imread(\"images/lena.png\")\n",
    "\n",
    "show_img(\"lena\", img)"
   ]
  },
  {
   "cell_type": "code",
   "execution_count": 6,
   "id": "3e1dfc4a",
   "metadata": {},
   "outputs": [
    {
     "ename": "AttributeError",
     "evalue": "'NoneType' object has no attribute 'shape'",
     "output_type": "error",
     "traceback": [
      "\u001b[1;31m---------------------------------------------------------------------------\u001b[0m",
      "\u001b[1;31mAttributeError\u001b[0m                            Traceback (most recent call last)",
      "Cell \u001b[1;32mIn[6], line 5\u001b[0m\n\u001b[0;32m      2\u001b[0m img_jpeg \u001b[38;5;241m=\u001b[39m cv\u001b[38;5;241m.\u001b[39mimread(\u001b[38;5;124m\"\u001b[39m\u001b[38;5;124mimages/lena.jpg\u001b[39m\u001b[38;5;124m\"\u001b[39m,\u001b[38;5;241m-\u001b[39m\u001b[38;5;241m1\u001b[39m)\n\u001b[0;32m      3\u001b[0m img_png \u001b[38;5;241m=\u001b[39m cv\u001b[38;5;241m.\u001b[39mimread(\u001b[38;5;124m\"\u001b[39m\u001b[38;5;124mimages/lena.png\u001b[39m\u001b[38;5;124m\"\u001b[39m,\u001b[38;5;241m-\u001b[39m\u001b[38;5;241m1\u001b[39m)\n\u001b[1;32m----> 5\u001b[0m \u001b[38;5;28mprint\u001b[39m(\u001b[38;5;124mf\u001b[39m\u001b[38;5;124m\"\u001b[39m\u001b[38;5;124mshape of jpeg image: \u001b[39m\u001b[38;5;132;01m{\u001b[39;00mimg_jpeg\u001b[38;5;241m.\u001b[39mshape\u001b[38;5;132;01m}\u001b[39;00m\u001b[38;5;124m\"\u001b[39m)\n\u001b[0;32m      6\u001b[0m \u001b[38;5;28mprint\u001b[39m(\u001b[38;5;124mf\u001b[39m\u001b[38;5;124m\"\u001b[39m\u001b[38;5;124mshape of png image: \u001b[39m\u001b[38;5;132;01m{\u001b[39;00mimg_png\u001b[38;5;241m.\u001b[39mshape\u001b[38;5;132;01m}\u001b[39;00m\u001b[38;5;124m\"\u001b[39m)\n",
      "\u001b[1;31mAttributeError\u001b[0m: 'NoneType' object has no attribute 'shape'"
     ]
    }
   ],
   "source": [
    "# difference between jpeg and png \n",
    "img_jpeg = cv.imread(\"images/lena.jpg\",-1)\n",
    "img_png = cv.imread(\"images/lena.png\",-1)\n",
    "\n",
    "print(f\"shape of jpeg image: {img_jpeg.shape}\")\n",
    "print(f\"shape of png image: {img_png.shape}\")"
   ]
  },
  {
   "cell_type": "markdown",
   "id": "d3dc2663",
   "metadata": {},
   "source": [
    "### gif\n",
    "import new module"
   ]
  },
  {
   "cell_type": "code",
   "execution_count": 7,
   "id": "a2435570",
   "metadata": {},
   "outputs": [],
   "source": [
    "import imageio"
   ]
  },
  {
   "cell_type": "code",
   "execution_count": 8,
   "id": "549e3fe9",
   "metadata": {},
   "outputs": [],
   "source": [
    "# gif \n",
    "GIF = imageio.mimread(\"images/rotating_earth_large.gif\")\n",
    "# change to BGR to RGB\n",
    "imgs = [cv.cvtColor(img, cv.COLOR_RGB2BGR) for img in GIF]\n",
    "\n",
    "for img in imgs:\n",
    "    cv.imshow(\"GIF\", img)\n",
    "    cv.waitKey(200)\n",
    "    \n",
    "cv.destroyAllWindows()"
   ]
  },
  {
   "cell_type": "markdown",
   "id": "09415cf4",
   "metadata": {},
   "source": [
    "## save images\n",
    "cv.imwrite(filepath, img)"
   ]
  },
  {
   "cell_type": "code",
   "execution_count": 9,
   "id": "f99a8141",
   "metadata": {},
   "outputs": [],
   "source": [
    "# a more formalized approach\n",
    "img = cv.imread(cv.samples.findFile(\"images/lena.jfif\"))\n",
    "\n",
    "if img is None:\n",
    "    sys.exit(\"Not a valid filepath\")\n",
    "    \n",
    "cv.imshow(\"img\", img)\n",
    "k = cv.waitKey(0) & 0xFF\n",
    "if k == ord('s'): #press 's' button\n",
    "    cv.imwrite(\"lena_save.jpg\", img)\n",
    "    \n",
    "cv.destroyAllWindows()"
   ]
  },
  {
   "cell_type": "markdown",
   "id": "833f610c",
   "metadata": {},
   "source": [
    "## Same operations on videos\n",
    "Load and show videos"
   ]
  },
  {
   "cell_type": "code",
   "execution_count": 44,
   "id": "1948c7ad",
   "metadata": {},
   "outputs": [],
   "source": [
    "cap = cv.VideoCapture(\"videos/img_pexels.mp4\")\n",
    "\n",
    "if not cap.isOpened():\n",
    "    sys.exit(\"No video file found\")\n",
    "    \n",
    "cv.namedWindow(\"frame\", cv.WINDOW_NORMAL)\n",
    "while True:\n",
    "    ret, frame = cap.read()\n",
    "    \n",
    "    if not ret:\n",
    "        print(\"no frame received!\")\n",
    "        break\n",
    "        \n",
    "    cv.imshow(\"frame\", frame)\n",
    "    k = cv.waitKey(1) & 0xFF\n",
    "    if k == 27:\n",
    "        break\n",
    "        \n",
    "cap.release()\n",
    "cv.destroyAllWindows()"
   ]
  },
  {
   "cell_type": "code",
   "execution_count": 37,
   "id": "a1c3c6ad",
   "metadata": {},
   "outputs": [],
   "source": [
    "## Webcam\n",
    "cap = cv.VideoCapture(0) #webcam\n",
    "\n",
    "if not cap.isOpened():\n",
    "    sys.exit(\"No webcam found\")\n",
    "    \n",
    "# save video object\n",
    "# arguments : filepath, fourcc, fps, wifth and height\n",
    "fourcc = cv.VideoWriter_fourcc(\"M\",\"J\",\"P\",\"G\")\n",
    "fps = 15\n",
    "w, h = int(cap.get(3)), int(cap.get(4))\n",
    "out = cv.VideoWriter(\"videos/out.avi\", fourcc, fps, (w,h))\n",
    "\n",
    "while True:\n",
    "    ret, frame = cap.read()\n",
    "    \n",
    "    if not ret:\n",
    "        print(\"no frame received!\")\n",
    "        break\n",
    "        \n",
    "    out.write(frame)\n",
    "    cv.imshow(\"frame\", frame)\n",
    "    k = cv.waitKey(1) & 0xFF\n",
    "    if k == 27:\n",
    "        break\n",
    "        \n",
    "cap.release()\n",
    "out.release()\n",
    "cv.destroyAllWindows()"
   ]
  },
  {
   "cell_type": "code",
   "execution_count": 11,
   "id": "af209671",
   "metadata": {},
   "outputs": [],
   "source": [
    "import time"
   ]
  },
  {
   "cell_type": "code",
   "execution_count": 20,
   "id": "4c1a9559",
   "metadata": {},
   "outputs": [],
   "source": [
    "cap = cv.VideoCapture(\"videos/img_pexels.mp4\")\n",
    "\n",
    "if not cap.isOpened():\n",
    "    sys.exit(\"No video file found\")\n",
    "    \n",
    "cv.namedWindow(\"frame\", cv.WINDOW_NORMAL)\n",
    "start = time.time()\n",
    "while True:\n",
    "    ret, frame = cap.read()\n",
    "    \n",
    "    if not ret:\n",
    "        print(\"no frame received!\")\n",
    "        break\n",
    "        \n",
    "    cv.imshow(\"frame\", frame)\n",
    "    k = cv.waitKey(1) & 0xFF\n",
    "    if k == 27:\n",
    "        break\n",
    "        \n",
    "end = time.time()\n",
    "# cap.release()\n",
    "cv.destroyAllWindows()"
   ]
  },
  {
   "cell_type": "code",
   "execution_count": 13,
   "id": "0cb067e4",
   "metadata": {},
   "outputs": [
    {
     "name": "stdout",
     "output_type": "stream",
     "text": [
      "The actual frame rate from the file: 60.0\n",
      "The fps if stream using OpenCV: 2622.387151677536\n"
     ]
    }
   ],
   "source": [
    "print(f\"The actual frame rate from the file: {cap.get(5)}\")\n",
    "n_frames = cap.get(7)\n",
    "print(f\"The fps if stream using OpenCV: {n_frames / (end - start)}\")"
   ]
  },
  {
   "cell_type": "markdown",
   "id": "0f0b8f19",
   "metadata": {},
   "source": [
    "## Image resizing\n",
    "1. set arbitary demension (w,h).\n",
    "2. scale factor"
   ]
  },
  {
   "cell_type": "code",
   "execution_count": 55,
   "id": "9e5250db",
   "metadata": {},
   "outputs": [],
   "source": [
    "# 1 method\n",
    "img = cv.imread(\"images/soccer.jpg\")\n",
    "\n",
    "new_height = 450\n",
    "new_width = 300\n",
    "\n",
    "# third argument: fx, 4th atgument: fy, 5th: interpolation methods (default: bilinear)\n",
    "img_resize = cv.resize(img, (new_width, new_height))\n",
    "\n",
    "cv.imshow(\"original\",img)\n",
    "show_img(\"resize\",img_resize)"
   ]
  },
  {
   "cell_type": "code",
   "execution_count": 15,
   "id": "d0613b99",
   "metadata": {},
   "outputs": [
    {
     "data": {
      "text/plain": [
       "(1200, 800, 3)"
      ]
     },
     "execution_count": 15,
     "metadata": {},
     "output_type": "execute_result"
    }
   ],
   "source": [
    "img.shape"
   ]
  },
  {
   "cell_type": "code",
   "execution_count": 54,
   "id": "6b63fa2f",
   "metadata": {},
   "outputs": [],
   "source": [
    "# 2 method scale factor\n",
    "\n",
    "img = cv.imread(\"images/lena.jfif\")\n",
    "\n",
    "img_resize = cv.resize(img, None, fx=1.5, fy =1.5)\n",
    "cv.imshow(\"original\", img)\n",
    "show_img(\"resize\", img_resize)"
   ]
  },
  {
   "cell_type": "markdown",
   "id": "3154bb84",
   "metadata": {},
   "source": [
    "## Exercises"
   ]
  },
  {
   "cell_type": "markdown",
   "id": "5c690357",
   "metadata": {},
   "source": [
    "1. Load and display the image 'dog.jfif'. Save the image in png format."
   ]
  },
  {
   "cell_type": "code",
   "execution_count": null,
   "id": "b6c15384",
   "metadata": {},
   "outputs": [],
   "source": [
    "# a more formalized approach\n",
    "img = cv.imread(cv.samples.findFile(\"images/dog.jfif\"))\n",
    "\n",
    "if img is None:\n",
    "    sys.exit(\"Not a valid filepath\")\n",
    "    \n",
    "cv.imshow(\"img\", img)\n",
    "k = cv.waitKey(0) & 0xFF\n",
    "if k == ord('s'): #press 's' button\n",
    "    cv.imwrite(\"dog_save.png\", img)\n",
    "    \n",
    "cv.destroyAllWindows()"
   ]
  },
  {
   "cell_type": "markdown",
   "id": "fb719ea7",
   "metadata": {},
   "source": [
    "2. Suggest 2 ways and write codes to display 2 images simultaneously. You can use any image snapped from your handphone, downloaded from internet or images from weekly materials on MS teams. The 2 images are original color image and its corresponding grayscale image.\n"
   ]
  },
  {
   "cell_type": "code",
   "execution_count": null,
   "id": "0b07864b",
   "metadata": {},
   "outputs": [],
   "source": [
    "# 1 method: cv.imshow() called twice\n",
    "img = cv.imread(\"images/lena.jfif\")\n",
    "grayscale = cv.cvtColor(img, cv.COLOR_BGR2GRAY)\n",
    "\n",
    "cv.imshow(\"lena\",img)\n",
    "show_img(\"grayscale\",grayscale)"
   ]
  },
  {
   "cell_type": "code",
   "execution_count": null,
   "id": "7da43396",
   "metadata": {},
   "outputs": [],
   "source": [
    "# 2:import extranal module: matplotlib\n",
    "import matplotlib.pyplot as plt"
   ]
  },
  {
   "cell_type": "code",
   "execution_count": null,
   "id": "09ec8c2b",
   "metadata": {},
   "outputs": [],
   "source": [
    "img_rgb = cv.cvtColor(img, cv.COLOR_BGR2RBG)\n",
    "\n",
    "plt.subplot(121)\n",
    "plt.imshow(img_rgb)\n",
    "plt.xticks([]), plt.yticks([])\n",
    "plt.subplot(122)\n",
    "plt.imshow(grayscale,cmap=plt.cm.gray)\n",
    "plt.xticks([]), plt.yticks([])\n",
    "plt.subtitle(\"colour vs grayscale\")\n",
    "plt.show()"
   ]
  },
  {
   "cell_type": "code",
   "execution_count": null,
   "id": "2d4b7f90",
   "metadata": {},
   "outputs": [],
   "source": [
    "# 3 .method: concaterate (join array)\n",
    "gray = cv.cvtColor(grayscale, cv.COLOR_GRAY2BGR)\n",
    "\n",
    "#img_combined = np.hstack((img,gray))\n",
    "img_combined = np.concatenate((img,gray), axis=1)\n",
    "\n",
    "show_img(\"joined\", img_combined)"
   ]
  },
  {
   "cell_type": "markdown",
   "id": "06128636",
   "metadata": {},
   "source": [
    "3. Write codes that performs the following:\n",
    "- Load the video “img_pexels.mp4” into the Python environment, resize it and display the videos with smaller frames (The frames can be of any size, as long as it is smaller). You can specify an arbitrary frame rate.\n",
    "- Save it as a separate files: “smaller_img_pexels.avi” or \"smaller_img_pexels.mp4\""
   ]
  },
  {
   "cell_type": "code",
   "execution_count": 50,
   "id": "35dca37e",
   "metadata": {},
   "outputs": [],
   "source": [
    "cap = cv.VideoCapture(\"videos/img_pexels.mp4\")\n",
    "\n",
    "if not cap.isOpened():\n",
    "    sys.exit(\"No video file found\")\n",
    "    \n",
    "\n",
    "width = int(cap.get(cv.CAP_PROP_FRAME_WIDTH))\n",
    "height = int(cap.get(cv.CAP_PROP_FRAME_HEIGHT))    \n",
    "\n",
    "# smaller size\n",
    "small_width = int(width / 4)\n",
    "small_height = int(height / 4)\n",
    "\n",
    "fourcc = cv.VideoWriter_fourcc(*\"mp4v\")\n",
    "fps = 30\n",
    "out = cv.VideoWriter(\"videos/smaller_img_pexels.avi\", fourcc, fps, (small_width,small_height))\n",
    "\n",
    "\n",
    "while True:\n",
    "    ret, frame = cap.read()\n",
    "    \n",
    "    if not ret:\n",
    "        print(\"no frame received!\")\n",
    "        break\n",
    "    \n",
    "    small_frame = cv.resize(frame, (small_width, small_height))\n",
    "    out.write(small_frame)\n",
    "    cv.imshow(\"frame\", small_frame)\n",
    "    k = cv.waitKey(1) & 0xFF\n",
    "    if k == 27:\n",
    "        break\n",
    "        \n",
    "cap.release()\n",
    "cv.destroyAllWindows()"
   ]
  },
  {
   "cell_type": "markdown",
   "id": "56c3a4d9",
   "metadata": {},
   "source": [
    "4. Enlarge the image \"dog.jfif\" by using different techniques: \n",
    "1) Linear interpolation \n",
    "2) Cubic interpolation \n",
    "3) nearest neighbor interpolation. \n",
    "- Comment on the upscaled of all the outputs."
   ]
  },
  {
   "cell_type": "code",
   "execution_count": 5,
   "id": "c0891332",
   "metadata": {},
   "outputs": [],
   "source": [
    "# Linear interpolation (curve fitting)\n",
    "img = cv.imread(\"images/dog.jfif\")\n",
    "\n",
    "\n",
    "new_width = int(img.shape[1] * 2)\n",
    "new_height = int(img.shape[0] * 2)\n",
    "\n",
    "img_resize = cv.resize(img, (new_width, new_height), interpolation=cv.INTER_LINEAR)\n",
    "\n",
    "cv.imshow(\"original\", img)\n",
    "show_img(\"Linear interpolation\", img_resize)"
   ]
  },
  {
   "cell_type": "code",
   "execution_count": 6,
   "id": "d5032945",
   "metadata": {},
   "outputs": [],
   "source": [
    "# Cubic interpolation (considering the closest 4x4 neighborhood)\n",
    "img = cv.imread(\"images/dog.jfif\")\n",
    "\n",
    "\n",
    "new_width = int(img.shape[1] * 2)\n",
    "new_height = int(img.shape[0] * 2)\n",
    "\n",
    "img_resize = cv.resize(img, (new_width, new_height), interpolation=cv.INTER_CUBIC)\n",
    "\n",
    "cv.imshow(\"original\", img)\n",
    "show_img(\"Linear interpolation\", img_resize)"
   ]
  },
  {
   "cell_type": "code",
   "execution_count": 7,
   "id": "4e798da2",
   "metadata": {},
   "outputs": [],
   "source": [
    "# nearest neighbor interpolation. (nearest neighboring pixel and assumes its intensity value, \n",
    "# calculating an average value using some weighting criteria or producing an intermediate value based on intricate rules.)\n",
    "\n",
    "img = cv.imread(\"images/dog.jfif\")\n",
    "\n",
    "\n",
    "new_width = int(img.shape[1] * 2)\n",
    "new_height = int(img.shape[0] * 2)\n",
    "\n",
    "img_resize = cv.resize(img, (new_width, new_height), interpolation=cv.INTER_NEAREST)\n",
    "\n",
    "cv.imshow(\"original\", img)\n",
    "show_img(\"Linear interpolation\", img_resize)"
   ]
  },
  {
   "cell_type": "code",
   "execution_count": null,
   "id": "0c2aa0c8",
   "metadata": {},
   "outputs": [],
   "source": []
  }
 ],
 "metadata": {
  "kernelspec": {
   "display_name": "Python 3 (ipykernel)",
   "language": "python",
   "name": "python3"
  },
  "language_info": {
   "codemirror_mode": {
    "name": "ipython",
    "version": 3
   },
   "file_extension": ".py",
   "mimetype": "text/x-python",
   "name": "python",
   "nbconvert_exporter": "python",
   "pygments_lexer": "ipython3",
   "version": "3.10.9"
  }
 },
 "nbformat": 4,
 "nbformat_minor": 5
}
